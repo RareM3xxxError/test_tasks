{
 "cells": [
  {
   "cell_type": "markdown",
   "id": "f4bde66a",
   "metadata": {},
   "source": [
    "### Тестовая задание в НПЦ «БизнесАвтоматика». Герасмиов К.М. "
   ]
  },
  {
   "cell_type": "markdown",
   "id": "0e715173",
   "metadata": {},
   "source": [
    "## 1.1 Задача про регионы\n",
    "Для выполнения задания: \n",
    "1. Создадим датафреймы: user, regions, users_regions \n",
    "2. Зальём их на тестовоую базу SQLite\n",
    "3. Напишем SQL запрос запрос по условию:  \n",
    ">написать SQL-запрос, получающий список регионов, доступных пользователю в системе. Если пользователь не имеет связи с регионом, должны выводиться все регионы системы. При этом: 1. идентификатор пользователя передается в запрос в виде переменной; 2. в таблице UsersRegions нет дубликатов \n"
   ]
  },
  {
   "cell_type": "code",
   "execution_count": 1,
   "id": "99e2d5b3",
   "metadata": {},
   "outputs": [],
   "source": [
    "#для формирования датафремов\n",
    "import pandas as pd\n",
    "#для выполнения SQL запроса\n",
    "from sqlalchemy import create_engine"
   ]
  },
  {
   "cell_type": "code",
   "execution_count": 2,
   "id": "2861f960",
   "metadata": {
    "scrolled": false
   },
   "outputs": [
    {
     "data": {
      "text/html": [
       "<div>\n",
       "<style scoped>\n",
       "    .dataframe tbody tr th:only-of-type {\n",
       "        vertical-align: middle;\n",
       "    }\n",
       "\n",
       "    .dataframe tbody tr th {\n",
       "        vertical-align: top;\n",
       "    }\n",
       "\n",
       "    .dataframe thead th {\n",
       "        text-align: right;\n",
       "    }\n",
       "</style>\n",
       "<table border=\"1\" class=\"dataframe\">\n",
       "  <thead>\n",
       "    <tr style=\"text-align: right;\">\n",
       "      <th></th>\n",
       "      <th>id</th>\n",
       "      <th>fio</th>\n",
       "    </tr>\n",
       "  </thead>\n",
       "  <tbody>\n",
       "    <tr>\n",
       "      <th>0</th>\n",
       "      <td>1</td>\n",
       "      <td>Иванов Иван Иванович</td>\n",
       "    </tr>\n",
       "    <tr>\n",
       "      <th>1</th>\n",
       "      <td>2</td>\n",
       "      <td>Иванов Иван Иванович</td>\n",
       "    </tr>\n",
       "    <tr>\n",
       "      <th>2</th>\n",
       "      <td>3</td>\n",
       "      <td>Федоров Федор Федорович</td>\n",
       "    </tr>\n",
       "  </tbody>\n",
       "</table>\n",
       "</div>"
      ],
      "text/plain": [
       "   id                      fio\n",
       "0   1     Иванов Иван Иванович\n",
       "1   2     Иванов Иван Иванович\n",
       "2   3  Федоров Федор Федорович"
      ]
     },
     "metadata": {},
     "output_type": "display_data"
    },
    {
     "data": {
      "text/html": [
       "<div>\n",
       "<style scoped>\n",
       "    .dataframe tbody tr th:only-of-type {\n",
       "        vertical-align: middle;\n",
       "    }\n",
       "\n",
       "    .dataframe tbody tr th {\n",
       "        vertical-align: top;\n",
       "    }\n",
       "\n",
       "    .dataframe thead th {\n",
       "        text-align: right;\n",
       "    }\n",
       "</style>\n",
       "<table border=\"1\" class=\"dataframe\">\n",
       "  <thead>\n",
       "    <tr style=\"text-align: right;\">\n",
       "      <th></th>\n",
       "      <th>id</th>\n",
       "      <th>title</th>\n",
       "    </tr>\n",
       "  </thead>\n",
       "  <tbody>\n",
       "    <tr>\n",
       "      <th>0</th>\n",
       "      <td>1</td>\n",
       "      <td>Москва</td>\n",
       "    </tr>\n",
       "    <tr>\n",
       "      <th>1</th>\n",
       "      <td>2</td>\n",
       "      <td>Липецкая область</td>\n",
       "    </tr>\n",
       "    <tr>\n",
       "      <th>2</th>\n",
       "      <td>3</td>\n",
       "      <td>Республика Саха</td>\n",
       "    </tr>\n",
       "  </tbody>\n",
       "</table>\n",
       "</div>"
      ],
      "text/plain": [
       "   id             title\n",
       "0   1            Москва\n",
       "1   2  Липецкая область\n",
       "2   3   Республика Саха"
      ]
     },
     "metadata": {},
     "output_type": "display_data"
    },
    {
     "data": {
      "text/html": [
       "<div>\n",
       "<style scoped>\n",
       "    .dataframe tbody tr th:only-of-type {\n",
       "        vertical-align: middle;\n",
       "    }\n",
       "\n",
       "    .dataframe tbody tr th {\n",
       "        vertical-align: top;\n",
       "    }\n",
       "\n",
       "    .dataframe thead th {\n",
       "        text-align: right;\n",
       "    }\n",
       "</style>\n",
       "<table border=\"1\" class=\"dataframe\">\n",
       "  <thead>\n",
       "    <tr style=\"text-align: right;\">\n",
       "      <th></th>\n",
       "      <th>id</th>\n",
       "      <th>user_id</th>\n",
       "      <th>region_id</th>\n",
       "    </tr>\n",
       "  </thead>\n",
       "  <tbody>\n",
       "    <tr>\n",
       "      <th>0</th>\n",
       "      <td>1</td>\n",
       "      <td>1</td>\n",
       "      <td>1</td>\n",
       "    </tr>\n",
       "    <tr>\n",
       "      <th>1</th>\n",
       "      <td>2</td>\n",
       "      <td>2</td>\n",
       "      <td>2</td>\n",
       "    </tr>\n",
       "    <tr>\n",
       "      <th>2</th>\n",
       "      <td>3</td>\n",
       "      <td>2</td>\n",
       "      <td>3</td>\n",
       "    </tr>\n",
       "  </tbody>\n",
       "</table>\n",
       "</div>"
      ],
      "text/plain": [
       "   id  user_id  region_id\n",
       "0   1        1          1\n",
       "1   2        2          2\n",
       "2   3        2          3"
      ]
     },
     "metadata": {},
     "output_type": "display_data"
    }
   ],
   "source": [
    "#таблица с пользователям\n",
    "user = {\n",
    "    'id': [1, 2, 3],\n",
    "    'fio': ['Иванов Иван Иванович', 'Иванов Иван Иванович', 'Федоров Федор Федорович']\n",
    "}\n",
    "user = pd.DataFrame(user) \n",
    "#таблица с регионами\n",
    "regions = {\n",
    "    'id': [1, 2, 3],\n",
    "    'title': ['Москва', 'Липецкая область', 'Республика Саха']\n",
    "}\n",
    "regions = pd.DataFrame(regions) \n",
    "#таблица связь пользователей с регионами\n",
    "users_regions = {\n",
    "    'id': [1, 2, 3],\n",
    "    'user_id': [1, 2, 2],\n",
    "    'region_id': [1, 2, 3]\n",
    "}\n",
    "users_regions = pd.DataFrame(users_regions) \n",
    "\n",
    "display(user)\n",
    "display(regions)\n",
    "display(users_regions)"
   ]
  },
  {
   "cell_type": "code",
   "execution_count": 3,
   "id": "d7ffac2d",
   "metadata": {},
   "outputs": [
    {
     "data": {
      "text/plain": [
       "3"
      ]
     },
     "execution_count": 3,
     "metadata": {},
     "output_type": "execute_result"
    }
   ],
   "source": [
    "#создаём движок для БД \n",
    "engine = create_engine('sqlite:///mydatabase.db')\n",
    "#сохраняем наши таблицы в БД\n",
    "user.to_sql('user', engine, if_exists='replace', index=False)\n",
    "regions.to_sql('regions', engine, if_exists='replace', index=False)\n",
    "users_regions.to_sql('users_regions', engine, if_exists='replace', index=False) "
   ]
  },
  {
   "cell_type": "markdown",
   "id": "6b2d101e",
   "metadata": {},
   "source": [
    "Таблицы сформированы, теперь создадим переменную, которая будет принимать значения идентификатора пользователя и выполним SQL запрос, отвечающий на поставленную задачу"
   ]
  },
  {
   "cell_type": "code",
   "execution_count": 4,
   "id": "2083f85d",
   "metadata": {},
   "outputs": [],
   "source": [
    "input_id = 99"
   ]
  },
  {
   "cell_type": "code",
   "execution_count": 5,
   "id": "4ac46648",
   "metadata": {
    "scrolled": true
   },
   "outputs": [
    {
     "name": "stdout",
     "output_type": "stream",
     "text": [
      "          city_list\n",
      "0            Москва\n",
      "1  Липецкая область\n",
      "2   Республика Саха\n"
     ]
    }
   ],
   "source": [
    "# коннектимся к базе и выполняем sql запрос\n",
    "# в самом запросе создаём 2 временные таблицы: в t1 проверям вхождения переменной по user_id\n",
    "# в t2 прописываем условие, если вхождений не было выводим полный список регинов\n",
    "#если было, то только те по которым есть связь\n",
    "#с помощью дискинт убираем лишние значения, которые добавились в результате формирования таблицы t2 \n",
    "with engine.connect() as connection:\n",
    "    query = f'''\n",
    "        WITH t1 AS (SELECT ur.user_id,\n",
    "                           r.title AS title\n",
    "        FROM users_regions ur\n",
    "        JOIN user u ON u.id=ur.user_id\n",
    "        JOIN regions r ON r.id=region_id\n",
    "        WHERE 1=1 \n",
    "        AND u.id = {input_id}),\n",
    "        \n",
    "        t2 AS (SELECT CASE WHEN (SELECT count(*)\n",
    "                          FROM t1) = 0 THEN title\n",
    "                    ELSE (SELECT DISTINCT title\n",
    "                          FROM t1) END AS city_list\n",
    "        FROM regions)\n",
    "        \n",
    "        SELECT DISTINCT city_list\n",
    "        FROM t2 \n",
    "        \n",
    "        \n",
    "    '''\n",
    "\n",
    "result_df = pd.read_sql(query, engine)\n",
    "print(result_df) "
   ]
  },
  {
   "cell_type": "markdown",
   "id": "6521e0c2",
   "metadata": {},
   "source": [
    "Протестируем полученный код на некоторых значениях:"
   ]
  },
  {
   "cell_type": "code",
   "execution_count": 6,
   "id": "45f4f5cc",
   "metadata": {},
   "outputs": [
    {
     "name": "stdout",
     "output_type": "stream",
     "text": [
      "Result for input_id 1:\n",
      "  city_list\n",
      "0    Москва\n",
      "\n",
      "Result for input_id 2:\n",
      "          city_list\n",
      "0  Липецкая область\n",
      "\n",
      "Result for input_id 3:\n",
      "          city_list\n",
      "0            Москва\n",
      "1  Липецкая область\n",
      "2   Республика Саха\n",
      "\n",
      "Result for input_id 6:\n",
      "          city_list\n",
      "0            Москва\n",
      "1  Липецкая область\n",
      "2   Республика Саха\n",
      "\n"
     ]
    }
   ],
   "source": [
    "input_ids = [1, 2, 3, 6]  # Список значений input_id\n",
    "\n",
    "with engine.connect() as connection:\n",
    "    for input_id in input_ids:\n",
    "        query = f'''\n",
    "            WITH t1 AS (SELECT ur.user_id,\n",
    "                               r.title AS title\n",
    "            FROM users_regions ur\n",
    "            JOIN user u ON u.id=ur.user_id\n",
    "            JOIN regions r ON r.id=region_id\n",
    "            WHERE 1=1 \n",
    "            AND u.id = {input_id}),\n",
    "            \n",
    "            t2 AS (SELECT CASE WHEN (SELECT count(*)\n",
    "                              FROM t1) = 0 THEN title\n",
    "                        ELSE (SELECT DISTINCT title\n",
    "                              FROM t1) END AS city_list\n",
    "            FROM regions)\n",
    "            \n",
    "            SELECT DISTINCT city_list\n",
    "            FROM t2 \n",
    "        '''\n",
    "\n",
    "        result_df = pd.read_sql(query, engine)\n",
    "        print(f\"Result for input_id {input_id}:\")\n",
    "        print(result_df)\n",
    "        print()"
   ]
  },
  {
   "cell_type": "markdown",
   "id": "149f28ec",
   "metadata": {},
   "source": [
    "## 1.2 Задача про мастеров\n",
    "По аналогии с задачей 1.1 подготовим данные и напишем SQL-запрос по условию:\n",
    ">Требуется вывести для каждого мастера клиентов, которые чаще всего были у этого мастера за текущий месяц (если несколько вывести несколько, если ни одного вывести только мастера"
   ]
  },
  {
   "cell_type": "code",
   "execution_count": 7,
   "id": "4ed6e6e7",
   "metadata": {
    "scrolled": false
   },
   "outputs": [
    {
     "data": {
      "text/html": [
       "<div>\n",
       "<style scoped>\n",
       "    .dataframe tbody tr th:only-of-type {\n",
       "        vertical-align: middle;\n",
       "    }\n",
       "\n",
       "    .dataframe tbody tr th {\n",
       "        vertical-align: top;\n",
       "    }\n",
       "\n",
       "    .dataframe thead th {\n",
       "        text-align: right;\n",
       "    }\n",
       "</style>\n",
       "<table border=\"1\" class=\"dataframe\">\n",
       "  <thead>\n",
       "    <tr style=\"text-align: right;\">\n",
       "      <th></th>\n",
       "      <th>id</th>\n",
       "      <th>last_name</th>\n",
       "      <th>first_name</th>\n",
       "      <th>middle_name</th>\n",
       "    </tr>\n",
       "  </thead>\n",
       "  <tbody>\n",
       "    <tr>\n",
       "      <th>0</th>\n",
       "      <td>1</td>\n",
       "      <td>Иванов</td>\n",
       "      <td>Василий</td>\n",
       "      <td>Иванович</td>\n",
       "    </tr>\n",
       "    <tr>\n",
       "      <th>1</th>\n",
       "      <td>2</td>\n",
       "      <td>Любовинская</td>\n",
       "      <td>Виктория</td>\n",
       "      <td>Дмитрий</td>\n",
       "    </tr>\n",
       "    <tr>\n",
       "      <th>2</th>\n",
       "      <td>3</td>\n",
       "      <td>Иванович</td>\n",
       "      <td>Алексеевна</td>\n",
       "      <td>Олегович</td>\n",
       "    </tr>\n",
       "  </tbody>\n",
       "</table>\n",
       "</div>"
      ],
      "text/plain": [
       "   id    last_name  first_name middle_name\n",
       "0   1       Иванов     Василий    Иванович\n",
       "1   2  Любовинская    Виктория     Дмитрий\n",
       "2   3     Иванович  Алексеевна    Олегович"
      ]
     },
     "metadata": {},
     "output_type": "display_data"
    },
    {
     "data": {
      "text/html": [
       "<div>\n",
       "<style scoped>\n",
       "    .dataframe tbody tr th:only-of-type {\n",
       "        vertical-align: middle;\n",
       "    }\n",
       "\n",
       "    .dataframe tbody tr th {\n",
       "        vertical-align: top;\n",
       "    }\n",
       "\n",
       "    .dataframe thead th {\n",
       "        text-align: right;\n",
       "    }\n",
       "</style>\n",
       "<table border=\"1\" class=\"dataframe\">\n",
       "  <thead>\n",
       "    <tr style=\"text-align: right;\">\n",
       "      <th></th>\n",
       "      <th>id</th>\n",
       "      <th>last_name</th>\n",
       "      <th>first_name</th>\n",
       "      <th>middle_name</th>\n",
       "    </tr>\n",
       "  </thead>\n",
       "  <tbody>\n",
       "    <tr>\n",
       "      <th>0</th>\n",
       "      <td>1</td>\n",
       "      <td>Иванищев</td>\n",
       "      <td>Петр</td>\n",
       "      <td>Андреевич</td>\n",
       "    </tr>\n",
       "    <tr>\n",
       "      <th>1</th>\n",
       "      <td>2</td>\n",
       "      <td>Иванищева</td>\n",
       "      <td>Мария</td>\n",
       "      <td>Андреевна</td>\n",
       "    </tr>\n",
       "    <tr>\n",
       "      <th>2</th>\n",
       "      <td>3</td>\n",
       "      <td>Пескова</td>\n",
       "      <td>Ольга</td>\n",
       "      <td></td>\n",
       "    </tr>\n",
       "  </tbody>\n",
       "</table>\n",
       "</div>"
      ],
      "text/plain": [
       "   id  last_name first_name middle_name\n",
       "0   1   Иванищев       Петр   Андреевич\n",
       "1   2  Иванищева      Мария   Андреевна\n",
       "2   3    Пескова      Ольга            "
      ]
     },
     "metadata": {},
     "output_type": "display_data"
    },
    {
     "data": {
      "text/html": [
       "<div>\n",
       "<style scoped>\n",
       "    .dataframe tbody tr th:only-of-type {\n",
       "        vertical-align: middle;\n",
       "    }\n",
       "\n",
       "    .dataframe tbody tr th {\n",
       "        vertical-align: top;\n",
       "    }\n",
       "\n",
       "    .dataframe thead th {\n",
       "        text-align: right;\n",
       "    }\n",
       "</style>\n",
       "<table border=\"1\" class=\"dataframe\">\n",
       "  <thead>\n",
       "    <tr style=\"text-align: right;\">\n",
       "      <th></th>\n",
       "      <th>id</th>\n",
       "      <th>master_id</th>\n",
       "      <th>client_id</th>\n",
       "      <th>date</th>\n",
       "    </tr>\n",
       "  </thead>\n",
       "  <tbody>\n",
       "    <tr>\n",
       "      <th>0</th>\n",
       "      <td>1</td>\n",
       "      <td>1</td>\n",
       "      <td>1</td>\n",
       "      <td>2023-05-25</td>\n",
       "    </tr>\n",
       "    <tr>\n",
       "      <th>1</th>\n",
       "      <td>2</td>\n",
       "      <td>1</td>\n",
       "      <td>2</td>\n",
       "      <td>2023-05-17</td>\n",
       "    </tr>\n",
       "    <tr>\n",
       "      <th>2</th>\n",
       "      <td>3</td>\n",
       "      <td>2</td>\n",
       "      <td>1</td>\n",
       "      <td>2022-05-04</td>\n",
       "    </tr>\n",
       "    <tr>\n",
       "      <th>3</th>\n",
       "      <td>4</td>\n",
       "      <td>1</td>\n",
       "      <td>2</td>\n",
       "      <td>2022-05-26</td>\n",
       "    </tr>\n",
       "    <tr>\n",
       "      <th>4</th>\n",
       "      <td>5</td>\n",
       "      <td>1</td>\n",
       "      <td>3</td>\n",
       "      <td>2022-04-26</td>\n",
       "    </tr>\n",
       "  </tbody>\n",
       "</table>\n",
       "</div>"
      ],
      "text/plain": [
       "   id  master_id  client_id       date\n",
       "0   1          1          1 2023-05-25\n",
       "1   2          1          2 2023-05-17\n",
       "2   3          2          1 2022-05-04\n",
       "3   4          1          2 2022-05-26\n",
       "4   5          1          3 2022-04-26"
      ]
     },
     "metadata": {},
     "output_type": "display_data"
    }
   ],
   "source": [
    "#таблица мастеров\n",
    "masters = {\n",
    "    'id': [1, 2, 3],\n",
    "    'last_name': ['Иванов', 'Любовинская', 'Иванович'],\n",
    "    'first_name': ['Василий', 'Виктория', 'Алексеевна'],\n",
    "    'middle_name': ['Иванович', 'Дмитрий', 'Олегович'] \n",
    "    \n",
    "}\n",
    "masters = pd.DataFrame(masters) \n",
    "#таблица клиентов\n",
    "clients = {\n",
    "    'id': [1, 2, 3],\n",
    "    'last_name': ['Иванищев', 'Иванищева', 'Пескова'],\n",
    "    'first_name': ['Петр', 'Мария', 'Ольга'],\n",
    "    'middle_name': ['Андреевич', 'Андреевна', ''] \n",
    "    \n",
    "}\n",
    "clients = pd.DataFrame(clients) \n",
    "#таблица посещений \n",
    "visits = {\n",
    "    'id': [1, 2, 3, 4, 5],\n",
    "    'master_id': [1, 1, 2, 1, 1],\n",
    "    'client_id': [1, 2, 1,2, 3],\n",
    "    'date': ['25-05-2023', '17-05-2023', '04-05-2022', '26-05-2022', '26-04-2022'] \n",
    "}\n",
    "visits = pd.DataFrame(visits)\n",
    "\n",
    "visits['date'] = pd.to_datetime(visits['date'], format = \"%d-%m-%Y\")  \n",
    "\n",
    "display(masters)\n",
    "display(clients)\n",
    "display(visits)"
   ]
  },
  {
   "cell_type": "markdown",
   "id": "c9d59db7",
   "metadata": {},
   "source": [
    "Таблицы созданы, зальём их в тестовую базу данных: "
   ]
  },
  {
   "cell_type": "code",
   "execution_count": 8,
   "id": "f5a7b8f7",
   "metadata": {},
   "outputs": [
    {
     "data": {
      "text/plain": [
       "5"
      ]
     },
     "execution_count": 8,
     "metadata": {},
     "output_type": "execute_result"
    }
   ],
   "source": [
    "#сохраняем наши таблицы в БД\n",
    "masters.to_sql('masters', engine, if_exists='replace', index=False)\n",
    "clients.to_sql('clients', engine, if_exists='replace', index=False)\n",
    "visits.to_sql('visits', engine, if_exists='replace', index=False) "
   ]
  },
  {
   "cell_type": "code",
   "execution_count": 9,
   "id": "5d1fb6c1",
   "metadata": {},
   "outputs": [
    {
     "data": {
      "text/html": [
       "<div>\n",
       "<style scoped>\n",
       "    .dataframe tbody tr th:only-of-type {\n",
       "        vertical-align: middle;\n",
       "    }\n",
       "\n",
       "    .dataframe tbody tr th {\n",
       "        vertical-align: top;\n",
       "    }\n",
       "\n",
       "    .dataframe thead th {\n",
       "        text-align: right;\n",
       "    }\n",
       "</style>\n",
       "<table border=\"1\" class=\"dataframe\">\n",
       "  <thead>\n",
       "    <tr style=\"text-align: right;\">\n",
       "      <th></th>\n",
       "      <th>full_name_master</th>\n",
       "      <th>full_name_client</th>\n",
       "    </tr>\n",
       "  </thead>\n",
       "  <tbody>\n",
       "    <tr>\n",
       "      <th>0</th>\n",
       "      <td>Иванов Василий Иванович</td>\n",
       "      <td>Иванищева Мария Андреевна</td>\n",
       "    </tr>\n",
       "    <tr>\n",
       "      <th>1</th>\n",
       "      <td>Любовинская Виктория Дмитрий</td>\n",
       "      <td>Иванищев Петр Андреевич</td>\n",
       "    </tr>\n",
       "  </tbody>\n",
       "</table>\n",
       "</div>"
      ],
      "text/plain": [
       "               full_name_master           full_name_client\n",
       "0       Иванов Василий Иванович  Иванищева Мария Андреевна\n",
       "1  Любовинская Виктория Дмитрий    Иванищев Петр Андреевич"
      ]
     },
     "metadata": {},
     "output_type": "display_data"
    }
   ],
   "source": [
    "#для решения используем несколько временных таблиц\n",
    "#в t1 с данными о визитах фильтруем посещения по текущему месяцу\n",
    "#в t2 считаем сколько было посещений у мастера по каждому клиенту в текущем месяце,\n",
    "#в t3 джойним к посещеням расчёты по кол-ву визитов, а также считаем максимальное кол-во посещений оконной функциией\n",
    "#для случаев если несколько клиентов имели максимальное кол-во\n",
    "#в t4 джойним данные по клиентам и мастерам и фльтруем, так, что бы остались клиенты с максимальным кол-вом посещений\n",
    "#в финальному запросе выводим все имена мастеров и клиентов, которые были у него чаще всего\n",
    "#если клиентов не будет, то рядом с фамилей мастера выводим пустую строку при помощи функции coalesce()\n",
    "\n",
    "\n",
    "with engine.connect() as connection:\n",
    "    query = f'''\n",
    "    WITH t1 AS (\n",
    "        SELECT *\n",
    "        FROM visits v \n",
    "        WHERE strftime('%m', date(v.date)) = strftime('%m', 'now')\n",
    "        ),\n",
    "        t2 AS(\n",
    "        SELECT master_id,\n",
    "               client_id,\n",
    "               COUNT(client_id) AS cnt_visits\n",
    "        FROM t1 \n",
    "        GROUP BY \n",
    "        1,2\n",
    "        ),\n",
    "        \n",
    "        t3 AS (\n",
    "        SELECT t1.master_id,\n",
    "               t1.client_id,\n",
    "               t2.cnt_visits,\n",
    "               MAX(t2.cnt_visits) OVER (PARTITION BY t2.master_id) AS max_vists \n",
    "        FROM t1\n",
    "        LEFT JOIN t2 ON t1.master_id=t2.master_id AND t1.client_id = t2.client_id\n",
    "        ),\n",
    "        \n",
    "        t4 AS (\n",
    "        \n",
    "        SELECT *,\n",
    "               m.last_name || ' ' || m.first_name || ' ' || m.middle_name  AS full_name_master,\n",
    "               c.last_name || ' ' || c.first_name || ' ' || c.middle_name  AS full_name_client \n",
    "        FROM t3\n",
    "        LEFT JOIN masters m ON m.id = t3.master_id \n",
    "        LEFT JOIN clients c ON c.id=t3.client_id\n",
    "        WHERE cnt_visits = max_vists\n",
    "        )\n",
    "        \n",
    "        SELECT DISTINCT\n",
    "               full_name_master,\n",
    "               coalesce(full_name_client, '')  AS full_name_client\n",
    "        FROM t4\n",
    "    '''\n",
    "\n",
    "result_df = pd.read_sql(query, engine)\n",
    "display(result_df)   "
   ]
  },
  {
   "cell_type": "markdown",
   "id": "964246a6",
   "metadata": {},
   "source": [
    "## 2 Визуализация данных\n",
    "*Входные данные:*\n",
    "Есть данные о доле домохозяйств, обеспеченных широкополосным доступом (ШПД) к сети Интернет, входящих в состав муниципальных образований РФ, которые в свою очередь входят в регионы РФ в разрезе месяца.\n",
    "\n",
    "*Требуется:* \n",
    "Предложить вариант(ы) (макеты) дашборда для руководителя, содержащего агрегированную информацию о доле домохозяйств, обеспеченных ШПД в рамках страны, а также детальную информацию по регионам и муниципальным образованиям (районам) РФ, с описанием интерактивных сценариев.\n"
   ]
  },
  {
   "cell_type": "markdown",
   "id": "2ae7d789",
   "metadata": {},
   "source": [
    "**Вариант решения:**\n",
    "\n",
    "Описание элементов дашборда:\n",
    "\n",
    "1. Общая информация о доле домохозяйств, обеспеченных ШПД в РФ за текущий месяц. Этот блок содержит информацию о процентном соотношении домохозяйств с ШПД и без ШПД, а также общее количество домохозяйств в РФ.\n",
    "\n",
    "2. Карта РФ с отображением доли домохозяйств, обеспеченных ШПД, по регионам. Элемент интерактивный, при наведении на регион отображается информация о процентном соотношении домохозяйств с ШПД и без ШПД в этом регионе.\n",
    "\n",
    "3. Таблица с информацией о доле домохозяйств, обеспеченных ШПД, по муниципальным образованиям (районам) выбранного региона. Элемент интерактивный, при выборе региона на карте в таблице отображается информация о доле домохозяйств с ШПД и без ШПД по районам этого региона.\n",
    "\n",
    "4. График с динамикой изменения доли домохозяйств, обеспеченных ШПД, в выбранном регионе за текущий месяц по датам. Элемент интерактивный, при выборе другого региона на карте график автоматически обновляется. \n",
    "\n",
    "5. Список топ-5 районов выбранного региона с наибольшей долей домохозяйств, обеспеченных ШПД. Элемент интерактивный, при выборе другого региона на карте список автоматически обновляется.\n",
    "\n",
    "Интерактивные сценарии:\n",
    "\n",
    "1. Выбор периода. Пользователь может выбрать период, за который будет отображаться информация на дашборде (например, за последние 3 месяца).\n",
    "\n",
    "2. Выбор региона. Пользователь может выбрать регион на карте, и на основе этого выбора обновятся данные в таблице, графике и списке топ-5 районов.\n",
    "\n",
    "3. Фильтр по доле домохозяйств с ШПД. Пользователь может задать фильтр по доле домохозяйств с ШПД (например, от 50% и выше), и на основе этого фильтра обновятся данные в таблице, графике и списке топ-5 районов.\n",
    "\n",
    "**Вариант визуализации:**"
   ]
  },
  {
   "cell_type": "markdown",
   "id": "6dfedbce",
   "metadata": {},
   "source": [
    "![Макет дашборда](https://i.imgur.com/DwqFHsI.png) "
   ]
  },
  {
   "cell_type": "markdown",
   "id": "63a5f04e",
   "metadata": {},
   "source": [
    "-----\n",
    "\n",
    "Буду рад получить обратную связь по итоговом тестового задания, спасибо за ваше время!\n",
    "\n",
    "С уважением, Герасимов К.М. \n",
    "\n",
    "Моя электронная почта: gerasimov.km@yandex.ru\n",
    "\n",
    "Ник в tg: @flackostillrappin \n",
    "\n",
    "Телефон: +7(930)-866-66-88\n",
    "\n",
    "[Ссылка на резюме](https://disk.yandex.ru/i/gRJUdIBzKMiwog)"
   ]
  }
 ],
 "metadata": {
  "kernelspec": {
   "display_name": "Python 3 (ipykernel)",
   "language": "python",
   "name": "python3"
  },
  "language_info": {
   "codemirror_mode": {
    "name": "ipython",
    "version": 3
   },
   "file_extension": ".py",
   "mimetype": "text/x-python",
   "name": "python",
   "nbconvert_exporter": "python",
   "pygments_lexer": "ipython3",
   "version": "3.9.13"
  }
 },
 "nbformat": 4,
 "nbformat_minor": 5
}
